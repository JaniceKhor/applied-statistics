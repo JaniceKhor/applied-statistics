{
 "cells": [
  {
   "cell_type": "markdown",
   "id": "99e42e93",
   "metadata": {},
   "source": [
    "## Background knowlegde\n",
    "\n",
    "Have you ever wonder does it makes sense to check the correlation of two variables that have binary values (either 0 or 1) with Pearson correlation coefficient? \n",
    "\n",
    "The purpose of this notebook is for checking the question above. In general, I will compare the Pearson and Matthews correlation coefficients with variables that have binary values. \n",
    "\n",
    "If both the Pearson and Matthews correlation coefficients are the same, the result indicates that we are safe to use Pearson correlation coefficient for two variables that have binary values.\n",
    "\n",
    "The brief introduction of Pearson and Matthews correlation coefficients are shown below:\n",
    "\n",
    "- **Pearson correlation coefficient:** A measure of the strength and direction of a **linear relationship** between two variables.\n",
    "\n",
    "- **Matthews correlation coefficient**: A measure of the quality of binary classifications. A coefficient of +1 represents a perfect prediction, 0 an average random prediction and -1 an inverse prediction. The statistic is also known as the phi coefficient."
   ]
  },
  {
   "cell_type": "code",
   "execution_count": 1,
   "id": "tired-animation",
   "metadata": {},
   "outputs": [],
   "source": [
    "import numpy as np\n",
    "from scipy import stats\n",
    "from sklearn.metrics import matthews_corrcoef\n",
    "import matplotlib.pyplot as plt"
   ]
  },
  {
   "cell_type": "code",
   "execution_count": 2,
   "id": "talented-cooler",
   "metadata": {},
   "outputs": [],
   "source": [
    "def cc_interval(x, y, thresh=0.05):\n",
    "    \n",
    "    \"\"\"Confidence Interval for Correlation\"\"\"\n",
    "\n",
    "    # Correlation\n",
    "    cc = getcc(x, y)\n",
    "\n",
    "    # Transformation\n",
    "    zc = np.arctanh(cc)\n",
    "\n",
    "    # Std. Error\n",
    "    cc_se = 1 / np.sqrt(len(x) - 3)\n",
    "\n",
    "    # Confidence Interval for Correlation Coefficient\n",
    "    c_quantile = stats.norm.ppf(1 - thresh/2)\n",
    "    c_min = np.tanh(zc - cc_se*c_quantile)\n",
    "    c_max = np.tanh(zc + cc_se*c_quantile)\n",
    "\n",
    "    return cc, c_min, c_max\n",
    "\n",
    "\n",
    "def getcc(x, y): # Correlation\n",
    "    return np.corrcoef(x, y)[0, 1]\n",
    "\n",
    "\n",
    "def boot(true, pred, N, metric, alpha=0.05, seed=0):\n",
    "    \n",
    "    # Estimate Interval for 'metric' via bootstrapping, N times\n",
    "    # true, pred, np arrays\n",
    "\n",
    "    m = len(true)\n",
    "    np.random.seed(seed)\n",
    "\n",
    "    testdata = []\n",
    "    for _ in range(N):\n",
    "        _samp = np.random.randint(0, m, m)\n",
    "        testdata.append(metric(true[_samp], pred[_samp]))\n",
    "\n",
    "    return np.quantile(testdata, [alpha/2, 1-alpha/2])"
   ]
  },
  {
   "cell_type": "markdown",
   "id": "38dd732d",
   "metadata": {},
   "source": [
    "## Test correlation coefficient with numerical data"
   ]
  },
  {
   "cell_type": "code",
   "execution_count": 3,
   "id": "beneficial-helicopter",
   "metadata": {},
   "outputs": [
    {
     "data": {
      "image/png": "[encoded data removed]",
      "text/plain": [
       "<matplotlib.figure.Figure at 0x7f2449bd0358>"
      ]
     },
     "metadata": {
      "needs_background": "light"
     },
     "output_type": "display_data"
    }
   ],
   "source": [
    "# Numeric data\n",
    "true_n = np.array([.38, .58, 1.1, 2.2, -2, .1, 1, 2, -2, 1.5, .5, 3, .66, .2, .8, 0.5, 3.2, 2.67, -1.66])\n",
    "predict_n = np.array([.32, .70, 1.0, 2.3, -2.5, .3, 0, 1.7, -2.3, 1.1, .7, 3.1, .61, .19, .7, 0.33, 4, 2.0, -1.11])\n",
    "\n",
    "plt.plot(true_n, predict_n, 'k*')\n",
    "plt.xlabel('true_n')\n",
    "plt.ylabel('predict_n')\n",
    "plt.show()"
   ]
  },
  {
   "cell_type": "code",
   "execution_count": 8,
   "id": "generous-norfolk",
   "metadata": {},
   "outputs": [
    {
     "name": "stdout",
     "output_type": "stream",
     "text": [
      "Pearson correlation of population:  0.9667469906367849\n",
      "Confidence interval for correlation (0.9137862260507624, 0.9873885658801209)\n",
      "Estimated confidence interval for correlation via boostrapping:  [0.92580913 0.98938257]\n"
     ]
    }
   ],
   "source": [
    "print('Pearson correlation of population: ', getcc(true_n, predict_n))\n",
    "print('Confidence interval for correlation', cc_interval(true_n, predict_n)[1:])\n",
    "print('Estimated confidence interval for correlation via boostrapping: ', boot(true_n, predict_n, 1000, getcc))"
   ]
  },
  {
   "cell_type": "markdown",
   "id": "0077dc77",
   "metadata": {},
   "source": [
    "## Test correlation coefficient with binary data"
   ]
  },
  {
   "cell_type": "code",
   "execution_count": 9,
   "id": "coastal-conversation",
   "metadata": {},
   "outputs": [
    {
     "data": {
      "image/png": "[encoded data removed]",
      "text/plain": [
       "<matplotlib.figure.Figure at 0x7f2447b0a978>"
      ]
     },
     "metadata": {
      "needs_background": "light"
     },
     "output_type": "display_data"
    }
   ],
   "source": [
    "# Binary\n",
    "true_b = np.array([0, 1, 1, 1, 0, 0, 1, 1, 0, 1, 1, 0, 1, 1, 1, 1, 1, 0, 0, 1, 0, 1, 1, 1, 1, 0, 0, 0, 1, 1, 0, 0])\n",
    "predict_b = np.array([0, 0, 1, 1, 1, 0, 1, 1, 1, 0, 1, 0, 1, 0, 0, 1, 0, 0, 0, 1, 1, 1, 1, 1, 1, 0, 0, 0, 1, 0, 0, 0])\n",
    "\n",
    "N = len(true_b)\n",
    "ind = np.arange(N)\n",
    "width = 0.15\n",
    "plt.bar(ind, true_b, width, color='orange', label='true label')\n",
    "plt.bar(ind+width, predict_b, width, color='steelblue', label='predicted label')\n",
    "plt.xlabel('true_b vs predict_b')\n",
    "plt.ylabel('either 0 or 1')\n",
    "plt.legend()\n",
    "plt.show()"
   ]
  },
  {
   "cell_type": "code",
   "execution_count": 10,
   "id": "ab0d256b",
   "metadata": {},
   "outputs": [
    {
     "name": "stdout",
     "output_type": "stream",
     "text": [
      "Pearson correlation of population:  0.4453993340830444\n",
      "Confidence interval for correlation (0.11448595593711355, 0.6873433417845648)\n",
      "Estimated confidence interval for correlation via boostrapping:  [0.11555252 0.73352227]\n"
     ]
    }
   ],
   "source": [
    "print('Pearson correlation of population: ', getcc(true_b, predict_b))\n",
    "print('Confidence interval for correlation', cc_interval(true_b, predict_b)[1:])\n",
    "print('Estimated confidence interval for correlation via boostrapping: ', \n",
    "      boot(true_b, predict_b, 1000, getcc))"
   ]
  },
  {
   "cell_type": "code",
   "execution_count": 14,
   "id": "b619ca6c",
   "metadata": {},
   "outputs": [
    {
     "name": "stdout",
     "output_type": "stream",
     "text": [
      "Phi correlation of population:  0.44539933408304444\n",
      "Confidence interval for correlation (0.11448595593711355, 0.6873433417845648)\n",
      "Estimated confidence interval for correlation via boostrapping:  [0.11555252 0.73352227]\n"
     ]
    }
   ],
   "source": [
    "print('Phi correlation of population: ', matthews_corrcoef(true_b, predict_b))\n",
    "print('Confidence interval for correlation', cc_interval(true_b, predict_b)[1:])\n",
    "print('Estimated confidence interval for correlation via boostrapping: ', \n",
    "      boot(true_b, predict_b, 1000, matthews_corrcoef))"
   ]
  },
  {
   "cell_type": "markdown",
   "id": "0166161f",
   "metadata": {},
   "source": [
    "## Conclusion\n",
    "\n",
    "Both Pearson and Matthews (Phi) correlation coefficients give the same result. Hence, it is safe for us to test the correlation between two binary variables with Pearson correlation coefficient."
   ]
  },
  {
   "cell_type": "markdown",
   "id": "38115f46",
   "metadata": {},
   "source": [
    "---"
   ]
  }
 ],
 "metadata": {
  "kernelspec": {
   "display_name": "Python 3",
   "language": "python",
   "name": "python3"
  },
  "language_info": {
   "codemirror_mode": {
    "name": "ipython",
    "version": 3
   },
   "file_extension": ".py",
   "mimetype": "text/x-python",
   "name": "python",
   "nbconvert_exporter": "python",
   "pygments_lexer": "ipython3",
   "version": "3.6.9"
  }
 },
 "nbformat": 4,
 "nbformat_minor": 5
}
